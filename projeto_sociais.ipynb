{
  "nbformat": 4,
  "nbformat_minor": 0,
  "metadata": {
    "colab": {
      "provenance": []
    },
    "kernelspec": {
      "name": "python3",
      "display_name": "Python 3"
    },
    "language_info": {
      "name": "python"
    }
  },
  "cells": [
    {
      "cell_type": "code",
      "source": [
        "import requests\n",
        "import json\n",
        "\n",
        "def get_section_table(page_title, section_number):\n",
        "    section_str = str(section_number)\n",
        "    url = f'https://pt.wikipedia.org/w/api.php?action=parse&format=json&page={page_title}&prop=wikitext&section={section_str}'\n",
        "    response = requests.get(url)\n",
        "    data = response.json()\n",
        "\n",
        "    if 'error' in data:\n",
        "        return f\"Erro: {data['error']['info']}\"\n",
        "\n",
        "    wikitext = data['parse']['wikitext']['*']\n",
        "\n",
        "    return wikitext\n",
        "\n",
        "titulo_pagina_input = input(\"Digite o nome do autor: \")\n",
        "seção_escolhida_input = input(\"Digite o rótulo da seção (ex: 'biografia', 'Juventude', 'Influências', 'Obras', 'Teorias'): \")\n",
        "\n",
        "Mapear_paginas = {\n",
        "    'biografia': 1,\n",
        "    'juventude': 2,\n",
        "    'influências': 5,\n",
        "    'obras': 10,\n",
        "    'teorias': 11\n",
        "}\n",
        "\n",
        "Mapear_Autor = {\n",
        "    'Marx': 'Karl_Marx',\n",
        "    'Karl': 'Karl_Marx',\n",
        "    'karl': 'Karl_Marx',\n",
        "    'marx': 'Karl_Marx',\n",
        "    'karl marx': 'Karl_Marx',\n",
        "\n",
        "  }\n",
        "\n",
        "\n",
        "número_seção_input = Mapear_paginas.get(seção_escolhida_input.lower())\n",
        "autor_seção_input = Mapear_Autor.get(titulo_pagina_input)\n",
        "\n",
        "if número_seção_input is None:\n",
        "    print(\"Rótulo de seção inválido. Certifique-se de usar um dos rótulos permitidos.\")\n",
        "elif autor_seção_input is None:\n",
        "    print(\"Rótulo de autor inválido. Certifique-se de usar um dos autores permitidos.\")\n",
        "else:\n",
        "    try:\n",
        "        result = get_section_table(autor_seção_input, número_seção_input)\n",
        "        print(result)\n",
        "    except Exception as e:\n",
        "        print(f\"Ocorreu um erro ao processar a tabela da seção: {e}\")"
      ],
      "metadata": {
        "id": "fDzRZ0uJhVL0",
        "colab": {
          "base_uri": "https://localhost:8080/"
        },
        "outputId": "185203ec-59a1-462e-8ab5-43d7fb473626"
      },
      "execution_count": 5,
      "outputs": [
        {
          "output_type": "stream",
          "name": "stdout",
          "text": [
            "Digite o nome do autor: marx\n",
            "Digite o rótulo da seção (ex: 'biografia', 'Juventude', 'Influências', 'Obras', 'Teorias'): obras\n",
            "== Teoria e obras ==\n",
            "{{Marxismo}}\n",
            "{{Artigo principal|Lista de obras de Karl Marx}}\n",
            "A teoria marxista é, substancialmente, uma crítica radical das [[capitalismo|sociedades capitalistas]], mas é uma crítica que não se limita a teoria em si: Marx se posiciona contra qualquer separação drástica entre teoria e prática, entre pensamento e realidade, porque essas dimensões são abstrações mentais (categorias analíticas) que, no plano concreto, real, integram uma mesma totalidade complexa.<ref name=\"ianni\">IANNI, Octavio. ''Dialética e capitalismo – ensaio sobre o pensamento de Marx''. Petrópolis: Vozes, 1982, p. 9-10.</ref>\n",
            "\n",
            "O marxismo constitui-se como a [[Materialismo histórico|concepção materialista da História]], longe de qualquer tipo de [[determinismo]], mas compreendendo a predominância da materialidade sobre a ideia, sendo esta possível somente com o desenvolvimento daquela, e a compreensão das coisas em seu movimento, em sua interdeterminação, que é a [[dialética]]. Portanto, não é possível entender os conceitos marxianos — como [[forças produtivas]] ou [[Capital (economia)|capital]] — sem levar em conta o processo histórico, pois não são conceitos abstratos e sim uma abstração do real, tendo como pressuposto que o real é movimento.<ref>{{Citar web |ultimo=CHAGAS, Eduardo F. |url=http://www.ifch.unicamp.br/formulario_cemarx/selecao/2012/trabalhos/6520_Chagas_Eduardo.pdf |titulo=O Método dialético de Marx: investigação e exposição crítica do objeto |acessodata=29 de julho de 2012}}</ref>\n",
            "\n",
            "Karl Marx compreende o [[Trabalho (economia)|trabalho]] como atividade fundante da humanidade.<ref>Karl Marx, Capital: A Critique of Political Economy. Volume I: The Process of Capitalist Production. 1867 Vol. 1: O Processo de produção capitalista. (Chicago: Charles H. Kerr & Company, 1867 [1906]), p. 51</ref><ref>[[iarchive:acontributiontot00marxuoft|A contribution to The critique of political economy]] (Chicago: Charles Kerr & Company, 1911), p. 299.</ref> E o trabalho, sendo a centralidade da atividade humana, se desenvolve socialmente, sendo o homem um ser social. Sendo os homens seres sociais, a História, isto é, suas [[relações de produção]] e suas [[Relação social|relações sociais]] fundam todo processo de formação da humanidade. Esta compreensão e concepção do homem é radicalmente revolucionária em todos os sentidos, pois é a partir dela que Marx irá identificar a [[Alienação|alienação do trabalho]] como a alienação fundante das demais. E com esta base filosófica é que Marx compreende todas as demais ciências, tendo sua compreensão do real influenciado cada dia mais a ciência por sua consistência.<ref>{{Citar web |ultimo=SILVA, Célia Regina da; SILVA, Luis Fernando da; MARTINS, Sueli Terezinha F |url=http://www2.fc.unesp.br/revista_educacao/arquivos/Marxismo_ciencia_e_educacao.pdf |titulo=Marx, ciência e educação: a práxis transformadora como mediação para a produção do conhecimento |acessodata=29 de julho de 2012}}</ref>\n",
            "\n",
            "=== Metodologia ===\n",
            "Segundo Marx, Hegel e seus seguidores criaram uma dialética mistificada, que buscava explicar a história mundial a partir da economia<ref>{{Citar web |url=https://rinf.com/alt-news/breaking-news/two-cheers-for-pope-francis/ |titulo=Two Cheers for Pope Francis |acessodata=2016-06-04 |arquivourl=https://web.archive.org/web/20160806232043/https://rinf.com/alt-news/breaking-news/two-cheers-for-pope-francis/ |arquivodata=2016-08-06 |urlmorta=yes}}</ref> e como autodesenvolvimento da Ideia absoluta.\n",
            "\n",
            "Já os economistas clássicos naturalizavam e desistoricizaram o [[modo de produção]] capitalista, concebendo a dominação de classe burguesa como uma ordem natural das relações econômicas, a partir de um conceito abstrato de indivíduo, [[homo economicus]]. Por isso, os economistas clássicos recorriam a \"[[Robinson Crusoe|robsonadas]]\", isto é, narrativas de trocas de produtos entre caçadores e pescadores primitivos, para ilustrar as suas teorias econômicas. Marx atribuía essa mistificação ao [[fetichismo da mercadoria]], e não a uma intenção consciente.<ref>MARX, Karl.&nbsp;''[[O Capital]]'', Capítulo I, Seção 4</ref>\n",
            "\n",
            "Em oposição aos filósofos idealistas e aos economistas clássicos, Marx propunha a investigação do desenvolvimento histórico das formas de produção e reprodução social, partindo do concreto para o abstrato e do abstrato para o concreto.<ref>{{Citar web |ultimo=Marxist Internet Archive |url=http://www.marxists.org/portugues/marx/1859/contcriteconpoli/introducao.htm |titulo=Introdução à Contribuição para a Crítica da Economia Política |acessodata=29 de julho de 2012}}</ref>\n",
            "\n",
            "=== Classes sociais ===\n",
            "Em razão da&nbsp;<em>divisão social do trabalho</em>&nbsp;e dos meios, a sociedade se extrema entre possuidores e os não detentores dos meios de produção. Surgem, então, a&nbsp;classe dominante&nbsp;e a classe dominada, sendo a classe dominante aquela que mantém poder sobre os meios de produção e a classe dominada a que se sujeita a dominante para obter os bens produzidos. O Estado aparece para representar os interesses da classe dominante<ref>Marx e Engels. Mensagem do Comitê Central à Liga dos Comunistas. 1850</ref> e cria, para isso, inúmeros aparatos para manter a estrutura da produção. Esses aparatos são nomeados por Marx de&nbsp;infraestrutura&nbsp;e condicionam o desenvolvimento de&nbsp;ideologias&nbsp;e normas reguladoras, sejam elas políticas, religiosas, culturais ou econômicas, para assegurar os interesses dos proprietários dos meios de produção.<ref>[http://www.brasilescola.com/filosofia/as-classes-sociais-no-pensamento-karl-marx.htm]</ref> Ele defendia a tributação pesada e progressiva de heranças em sua obra até a abolição do direito a herança.<ref>{{Citar periódico |titulo=Apontamentos acerca da origem do debate sobre heranças na visão da economia política clássica e de Marx |url=https://www.academia.edu/44858641/Apontamentos_acerca_da_origem_do_debate_sobre_heran%C3%A7as_na_vis%C3%A3o_da_economia_pol%C3%ADtica_cl%C3%A1ssica_e_de_Marx |jornal=Revista da Sociedade Brasileira de Economia Política |acessodata=2021-01-19 |lingua=en |primeiro=Alexis |ultimo=Saludjian |primeiro2=Eduardo Costa |ultimo2=Pinto}}</ref>\n",
            "\n",
            "=== Crítica da religião ===\n",
            "[[Imagem:Marx old.jpg|thumb|upright|Marx cerca de um ano antes de sua morte, em 1882]]\n",
            "{{Artigo principal|Ateísmo Marxista-leninista|Marxismo e religião}}\n",
            "Para Marx a crítica da [[religião]] é o pressuposto de toda crítica social, pois crê que as concepções religiosas tendem a desresponsabilizar os homens pelas consequências de seus atos.<ref name=\"bottomore\" /> Marx tornou-se reconhecido como crítico sagaz da religião devido à sentença que profere em um escrito intitulado ''[[Crítica da filosofia do direito de Hegel]]'': “A religião é o suspiro da criatura oprimida, o coração de um mundo sem coração, assim como é o espírito de uma situação carente de espírito. É o [[ópio do povo]].”<ref name=\"LESBAUPIN, Ivo 2003\">LESBAUPIN, Ivo. ''Marxismo e religião''. In: Teixeira, F. (org.). Sociologia da religião. Petrópolis, RJ: Vozes, 2003.</ref> Em verdade, Marx se ocupou muito pouco em criticar sistematicamente a atividade religiosa. Nesse quesito ele basicamente seguiu as opiniões de [[Ludwig Feuerbach]], para quem a religião não expressa a vontade de nenhum [[Deus]] ou outro [[metafísica|ser metafísico]]: é criada pela fabulação dos homens.<ref name=\"LESBAUPIN, Ivo 2003\" />\n",
            "\n",
            "=== Revolução ===\n",
            "Apesar de alguns leitores de Marx adjetivarem-no de “[[teoria|teórico]] da [[revolução]]”, inexiste em suas obras qualquer [[conceito|definição conceitual]] explícita e específica do termo \"revolução\".<ref name=\"MAGALHÃES, Fernando 2009\">MAGALHÃES, Fernando. ''10 lições sobre Marx''. Petrópolis, RJ: Vozes, 2009.</ref> O que Marx oferece são descrições e projeções [[história|históricas]] inspiradas nos estudos que fez acerca das revoluções [[revolução francesa|francesa]], [[guerra civil inglesa|inglesa]] e [[Revolução Americana de 1776|norte-americana]].<ref name=\"bottomore\" /> Um exemplo de prognóstico [[história|histórico]] desse tipo encontra-se em ''[[Contribuição para a Crítica da Economia Política|Contribuição para a crítica da Economia Política]]'':\n",
            "\n",
            "{{cquote|\n",
            "::''Numa certa etapa do seu desenvolvimento, as forças produtivas materiais da sociedade entram em contradição com as relações de produção existentes ou, o que é apenas uma expressão jurídica delas, com as relações de propriedade no seio das quais se tinham até aí movido. De formas de desenvolvimento das forças produtivas, estas relações transformam-se em grilhões das mesmas. Ocorre então uma época de revolução social.''<ref>MARX, Karl. {{Link|pt|2=http://marxists.org/portugues/marx/1859/01/prefacio.htm|3=''Contribuição para a crítica da economia política'' |4=''Zur Kritik der Politischen Oekonomie''. Prefácio. Página visitada em 29 de julho de 2012}}</ref>}}\n",
            "\n",
            "Em geral, Marx considerava que toda [[revolução]] é necessariamente violenta, ainda que isso dependa, em maior ou menor grau, da constrição ou abertura do [[Estado]]. A necessidade de violência se justifica porque o Estado tenderia sempre a empregar a coerção para salvaguardar a manutenção da ordem sobre a qual repousa seu [[poder político]], logo, a insurreição não tem outra possibilidade de se realizar senão atuando também violentamente. Diferente do apregoado pelos pensadores [[contratualismo|contratualistas]], para Marx o poder político do Estado não emana de algum consenso geral, é antes o poder particular de uma classe particular que se afirma em detrimento das demais.<ref name=\"MAGALHÃES, Fernando 2009\" /> A revolução se daria no âmbito da necessidade de sobrevivência, pois segundo ele as forças produtivas em seu ápice passariam a se tornar destrutivas.<ref>Karl Marx and Frederick Engels, Collected Works (London: Lawrence and Wishart, 1975), 5:35 (henceforth MECW). 5:52 ; 5:87</ref>\n",
            "\n",
            "Importante notar que Marx não entende revolução enquanto algo como reconstruir a [[sociedade]] a partir de um zero absoluto. Na ''[[Crítica ao Programa de Gotha]]'', por exemplo, indica claramente que a instauração de um novo regime só é possível mediada pelas instituições do regime anterior. O novo é sempre gestado tendo o velho por ponto de partida.<ref name=\"MAGALHÃES, Fernando 2009\" /> A [[revolução proletária]], que instauraria um novo regime sem classes, só obteria sucesso pleno após a conclusão de um período de transição que Marx denominou [[socialismo]].<ref name=\"bottomore\" />\n",
            "\n",
            "=== Crítica ao anarquismo ===\n",
            "[[Imagem:Marx%2BFamily_and_Engels.jpg|thumb|upright|Engels, Marx e suas filhas]]\n",
            "Criticou o [[anarquismo]] por sua visão tida como ingênua do fim do Estado onde se objetiva acabar com o Estado \"por decreto\", ao invés de acabar com as condições sociais que fazem do Estado uma necessidade e realidade. Na obra ''[[Miséria da Filosofia]]'', elabora suas críticas ao pensamento do anarquista [[Proudhon]]. Também criticou o [[blanquismo]] com sua visão elitista de partido, por ter uma tendência autoritária e superada. Posicionou-se a favor do [[liberalismo]], não como solução para o proletariado, mas como premissa para maturação das forças produtivas (produtividade do trabalho) das condições positivas e negativas da emancipação proletária, como a da homogeneização da condição proletária internacional gerado pela \"[[globalização]]\" do capital. Sua visão política era profundamente marcada pelas condições que o [[desenvolvimento econômico]] ofereceria para a [[Emancipação (filosofia)|emancipação]] proletária, tanto em sentido negativo ([[desemprego]]), como em sentido positivo (em que o próprio capital centralizaria a economia, exemplo: [[multinacionais]]).<ref>ALVES, Giovanni. '' Marx e a Globalização Como Lógica do Capital''.</ref>\n",
            "\n",
            "=== ''Práxis'' ===\n",
            "{{artigo principal|Práxis}}\n",
            "Na lógica da concepção materialista da História, não é a realidade que move a si mesma, mas comove os atores, trata-se sempre de um \"drama histórico\" (termo que Marx usa em ''[[O 18 Brumário de Luís Bonaparte]]'') e não de um \"[[determinismo|determinismo histórico]]\" que cairia num materialismo mecânico ([[positivismo]]), oposto ao [[materialismo dialético]] de Marx, que poderia ser definido como uma \"dialética realidade-idealidade evolutiva\". Ou seja, as relações entre a realidade e as ideias se fundem na ''práxis'', e a ''práxis'' é o grande fundamento do pensamento de Marx. Pois sendo a [[história]] uma produção humana, e sendo as ideias produto das circunstâncias em que tais ideais brotaram, fazer história racionalmente é a grande meta. É o próprio fazer da história que criará suas condições objetivas e subjetivas adjacentes, já que a objetividade histórica é produto da humanidade (dos homens associados, luta política, etc.). E, assim, Marx finaliza as ''[[Teses sobre Feuerbach]]'', não se trata de interpretar diferentemente o mundo, mas de transformá-lo, pois a própria interpretação está condicionada ao mundo posto, só a ação revolucionária produz a transcendência do mundo vigente.<ref>MARX, Karl. {{Link|pt|2=http://www.marxists.org/portugues/marx/1845/tesfeuer.htm|3=''Teses sobre Feuerbach'' |4=''Thesen über Feuerbach''. Página visitada em 29 de julho de 2012}}</ref>\n",
            "\n",
            "=== ''Mais-valia'' ===\n",
            "{{artigo principal|Mais-valia}}\n",
            "\n",
            "O conceito de ''mais-valia'' foi empregado por Karl Marx para explicar a obtenção dos [[lucro]]s no sistema capitalista. Para Marx, o trabalho gera a riqueza, portanto, a mais-valia seria o [[Valor (economia)|valor]] extra da mercadoria, a diferença entre o que o empregado produz e o que ele recebe. Os operários em determinada produção produzem [[Bem (economia)|bens]] (ex: 100 carros num mês). Se dividirmos o valor dos carros pelo trabalho realizado dos operários, teremos o [[Teoria do valor-trabalho|valor do trabalho]] de cada operário. Entretanto os carros são vendidos por um preço maior: esta diferença é o lucro do proprietário da fábrica. A esta diferença, Marx chama de \"valor excedente ou maior\", ou mais-valia.<ref>SINGER, Paul. ''Marx – Economia in: Coleção Grandes Cientistas Sociais''; Vol 31.</ref> Segundo ele, o lucro teria uma tendência decrescente devido a necessidade de se investir na produção, à medida que a remuneração dos trabalhadores estaria submetida a mais-valia.<ref>[http://monthlyreview.org/2013/04/01/crisis-theory-the-law-of-the-tendency-of-the-profit-rate-to-fall-and-marxs-studies-in-the-1870s/ Crisis Theory, the Law of the Tendency of the Profit Rate to Fall, and Marx’s Studies in the 1870s]</ref>\n",
            "\n",
            "=== ''O Capital'' ===\n",
            "{{artigo principal|[[O Capital]]}}\n",
            "[[Imagem:Zentralbibliothek Zürich Das Kapital Marx 1867.jpg|thumb|upright|Capa da primeira edição (1867) de ''[[O Capital|Das Kapital]]'']]\n",
            "A grande obra de Marx é ''O Capital'', na qual trata de fazer uma extensa análise da sociedade capitalista. É predominantemente um livro de [[Economia Política]], mas não só. Nesta obra monumental, Marx discorre desde a economia, até a [[sociedade]], [[cultura]], [[política]] e [[filosofia]]. É uma obra analítica, sintética, crítica, descritiva, [[ciência|científica]], filosófica, etc. Uma obra de difícil leitura, ainda que suas categorias não tenham a [[ambiguidade]] especulativa própria da obra de Hegel, possui, no entanto, uma linguagem pouco atraente e nem um pouco fácil. Dentro da estrutura do pensamento de Marx, só uma obra como ''O Capital'' é o principal conhecimento, tanto para a humanidade em geral, quanto para o proletariado em particular, já que através de uma análise radical da realidade que está submetido, só assim poderá se desviar da ideologia dominante (\"a ideologia dominante\" é sempre da \"classe dominante\"), como poderá obter uma base concreta para sua luta política. Sobre o caráter da abordagem econômica das formações societárias humanas, afirmou Alphonse De Waelhens: \"O marxismo é um esforço para ler, por trás da pseudoimediaticidade do mundo econômico reificado as relações inter-humanas que o edificaram e se dissimularam por trás de sua obra\".<ref>WALHENS, A de. ''L'idée phénoménologique d'intentionalité'', in ''Hussuerl et la pensée moderne''. Haia: 1959, pp. 127-128. ''Apud'' KOSIK, K. ''Dialética do Concreto''. Rio de Janeiro: Paz e Terra, 1976, p. 17.</ref> Cabe lembrar que ''O Capital'' é uma obra incompleta, tendo sido publicado apenas o primeiro volume com Marx vivo. Os demais volumes foram organizados por Engels e publicados posteriormente.<ref>{{Citar web |ultimo=SECCO, Lincoln |url=http://grabois.org.br/portal/cdm/revista.int.php?id_sessao=50&id_publicacao=137&id_indice=729 |titulo=Engels e a economia política |acessodata=29 de julho de 2012 |arquivourl=https://web.archive.org/web/20130204182540/http://grabois.org.br/portal/cdm/revista.int.php?id_sessao=50&id_publicacao=137&id_indice=729 |arquivodata=2013-02-04 |urlmorta=yes}}</ref>\n",
            "\n",
            "=== Outras obras ===\n",
            "Na obra ''[[A Ideologia Alemã]]'', Marx apresenta os pressupostos de seu novo pensamento. No ''[[Manifesto Comunista]]'', apresenta sua tese política básica, propondo a construção de uma nova sociedade, derrubando a burguesia através da luta contra a propriedade privada<ref>{{Citar web |url=http://pessoas.hsw.uol.com.br/karl-marx2.htm |titulo=Como Tudo Funciona |acessodata=2014-07-23 |arquivourl=https://web.archive.org/web/20140727231052/http://pessoas.hsw.uol.com.br/karl-marx2.htm |arquivodata=2014-07-27 |urlmorta=yes}}</ref> de poucos.<ref>[https://www.marxists.org/portugues/marx/1848/ManifestoDoPartidoComunista/cap2.htm Manifesto do Partido Comunista]</ref> No ensaio \"[[Sobre a Questão Judaica]]\", apresenta sua crítica à religião, dizendo que não se deve apresentar questões humanas como teológicas, mas as teológicas como questões humanas, e que afirmar ou negar a existência de Deus, são ambas [[teologia]]. Para ele, deve-se sempre ver as religiões como reflexões fantasiosas do ser humano acerca de si mesmo, mas que representam a condição real a qual está submetido o ser humano. Em ''[[Crítica ao Programa de Gotha]]'', Marx faz sua mais extensa e sistemática apresentação do que seria uma sociedade socialista. Em ''[[A Guerra Civil na França]]'', Marx supera todas as suas [[Jacobinismo|tendências jacobinas]]<ref>[http://www.unicamp.br/cemarx/anais_v_coloquio_arquivos/arquivos/comunicacoes/gt1/sessao3/Thamy_Pogrebinschi.pdf Marx: um democrata jacobino?, por Thamy Pogrebinschi, a Universidade do Estado do Rio de Janeiro (UERJ)]</ref> de antes e defende claramente que só com o fim do Estado o proletariado oferece a si mesmo as condições de manter o próprio poder recém conquistado, e o fim do Estado é literalmente o \"povo em armas\", ou seja, o fim do \"monopólio da violência\" que o Estado representa. Em ''[[O 18 Brumário de Luís Bonaparte]]'', além da profunda análise sobre o [[Terror (Revolução Francesa)|terror]] da \"[[burocracia]]\", outros aspectos marcantes são a questão do campesinato como aliado da classe operária na revolução iminente, o papel dos partidos políticos na vida social<ref>[https://www.marxists.org/portugues/marx/1871/10/24.htm Estatutos Gerais da Associação Internacional dos Trabalhadores]</ref> e uma caracterização profunda da essência do bonapartismo. Karl Marx foi um dos poucos ideólogos que acompanharam todo o percurso de instabilidade política francesa pós-[[revolução francesa|Revolução Francesa]], [[revolução industrial]] e [[globalização]]<ref>Marx, Karl, & Engels, Frederick, “Manifesto of the Communist Party,” Karl Marx and Frederick Engels Selected Works, Vol 1, Moscow: Progress Publishers, 1973, p. 32, 35-36</ref> sendo que influenciou muito na obra do autor e contribuiu para alimentar os debates políticos dentro da esquerda.<ref>[https://www.marxists.org/portugues/marx/1850/11/lutas_class/ As Lutas de Classes em França de 1848 a 1850] [https://neppec.fe.ufg.br/up/4/o/brumario.pdf O 18 de Brumário de Luís Bonaparte]</ref>\n"
          ]
        }
      ]
    },
    {
      "cell_type": "code",
      "source": [],
      "metadata": {
        "id": "m_GtMt_vanMc"
      },
      "execution_count": null,
      "outputs": []
    }
  ]
}